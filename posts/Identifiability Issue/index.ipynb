{
 "cells": [
  {
   "cell_type": "raw",
   "id": "0ccdab6d",
   "metadata": {
    "vscode": {
     "languageId": "raw"
    }
   },
   "source": [
    "---\n",
    "title: \"(Non)Identifiability\"\n",
    "author: \"Yiğit Aşık\"\n",
    "date: \"2025-09-21\"\n",
    "categories: [Stats, Inference]\n",
    "---"
   ]
  },
  {
   "cell_type": "markdown",
   "id": "79c47aea",
   "metadata": {},
   "source": [
    "I remember first time learning regression and remember the bullet points of assumptions. I believe people still learn that way, knowing that *multicollinearity is an issue*. But, what exactly is the issue? If you are following my posts on the [basketball analytics newsletter](https://thereadstep.substack.com/), adjusted plus-minus (APM) models are actually up against same issue.\n",
    "\n",
    "Anyway, let's get into it with an example. Btw, I'm going to using a Bayesian regression on this one since I feel like it makes the example more intuitive. However, feel free to give it a go with the frequentist way, which you'll end up noticing similar things."
   ]
  },
  {
   "cell_type": "code",
   "execution_count": 2,
   "id": "42af5fd3",
   "metadata": {},
   "outputs": [
    {
     "data": {
      "text/html": [
       "<div>\n",
       "<style scoped>\n",
       "    .dataframe tbody tr th:only-of-type {\n",
       "        vertical-align: middle;\n",
       "    }\n",
       "\n",
       "    .dataframe tbody tr th {\n",
       "        vertical-align: top;\n",
       "    }\n",
       "\n",
       "    .dataframe thead th {\n",
       "        text-align: right;\n",
       "    }\n",
       "</style>\n",
       "<table border=\"1\" class=\"dataframe\">\n",
       "  <thead>\n",
       "    <tr style=\"text-align: right;\">\n",
       "      <th></th>\n",
       "      <th>head_l</th>\n",
       "      <th>skull_w</th>\n",
       "    </tr>\n",
       "  </thead>\n",
       "  <tbody>\n",
       "    <tr>\n",
       "      <th>0</th>\n",
       "      <td>94.1</td>\n",
       "      <td>60.4</td>\n",
       "    </tr>\n",
       "    <tr>\n",
       "      <th>1</th>\n",
       "      <td>92.5</td>\n",
       "      <td>57.6</td>\n",
       "    </tr>\n",
       "    <tr>\n",
       "      <th>2</th>\n",
       "      <td>94.0</td>\n",
       "      <td>60.0</td>\n",
       "    </tr>\n",
       "    <tr>\n",
       "      <th>3</th>\n",
       "      <td>93.2</td>\n",
       "      <td>57.1</td>\n",
       "    </tr>\n",
       "    <tr>\n",
       "      <th>4</th>\n",
       "      <td>91.5</td>\n",
       "      <td>56.3</td>\n",
       "    </tr>\n",
       "  </tbody>\n",
       "</table>\n",
       "</div>"
      ],
      "text/plain": [
       "   head_l  skull_w\n",
       "0    94.1     60.4\n",
       "1    92.5     57.6\n",
       "2    94.0     60.0\n",
       "3    93.2     57.1\n",
       "4    91.5     56.3"
      ]
     },
     "execution_count": 2,
     "metadata": {},
     "output_type": "execute_result"
    }
   ],
   "source": [
    "df = pd.read_csv('possum.csv', usecols=['skull_w', 'head_l'])\n",
    "df.head()"
   ]
  },
  {
   "cell_type": "markdown",
   "id": "77d955d5",
   "metadata": {},
   "source": [
    "You probably remember the possum data from other posts. Let's predict `head_l` from `skull_w`. But I'll do something extreme, I'll add exact copy of `skull_w` and put both the original and the copy into the model.\n",
    "\n",
    "But before, here's what it looks like with a simple linear regression (the frequentist way)."
   ]
  },
  {
   "cell_type": "code",
   "execution_count": 3,
   "id": "2dbd6030",
   "metadata": {},
   "outputs": [
    {
     "data": {
      "text/html": [
       "<table class=\"simpletable\">\n",
       "<tr>\n",
       "      <td></td>         <th>coef</th>     <th>std err</th>      <th>t</th>      <th>P>|t|</th>  <th>[0.025</th>    <th>0.975]</th>  \n",
       "</tr>\n",
       "<tr>\n",
       "  <th>Intercept</th> <td>   46.1954</td> <td>    4.554</td> <td>   10.145</td> <td> 0.000</td> <td>   37.163</td> <td>   55.227</td>\n",
       "</tr>\n",
       "<tr>\n",
       "  <th>skull_w</th>   <td>    0.8158</td> <td>    0.080</td> <td>   10.207</td> <td> 0.000</td> <td>    0.657</td> <td>    0.974</td>\n",
       "</tr>\n",
       "</table>"
      ],
      "text/latex": [
       "\\begin{center}\n",
       "\\begin{tabular}{lcccccc}\n",
       "\\toprule\n",
       "                   & \\textbf{coef} & \\textbf{std err} & \\textbf{t} & \\textbf{P$> |$t$|$} & \\textbf{[0.025} & \\textbf{0.975]}  \\\\\n",
       "\\midrule\n",
       "\\textbf{Intercept} &      46.1954  &        4.554     &    10.145  &         0.000        &       37.163    &       55.227     \\\\\n",
       "\\textbf{skull\\_w}  &       0.8158  &        0.080     &    10.207  &         0.000        &        0.657    &        0.974     \\\\\n",
       "\\bottomrule\n",
       "\\end{tabular}\n",
       "\\end{center}"
      ],
      "text/plain": [
       "<class 'statsmodels.iolib.table.SimpleTable'>"
      ]
     },
     "execution_count": 3,
     "metadata": {},
     "output_type": "execute_result"
    }
   ],
   "source": [
    "model = smf.ols('head_l ~ skull_w', data=df)\n",
    "res = model.fit()\n",
    "\n",
    "res.summary().tables[1]"
   ]
  },
  {
   "cell_type": "markdown",
   "id": "4e41d904",
   "metadata": {},
   "source": [
    "0.816 — keep that in mind."
   ]
  },
  {
   "cell_type": "code",
   "execution_count": 4,
   "id": "66ccb301",
   "metadata": {},
   "outputs": [
    {
     "data": {
      "text/html": [
       "<div>\n",
       "<style scoped>\n",
       "    .dataframe tbody tr th:only-of-type {\n",
       "        vertical-align: middle;\n",
       "    }\n",
       "\n",
       "    .dataframe tbody tr th {\n",
       "        vertical-align: top;\n",
       "    }\n",
       "\n",
       "    .dataframe thead th {\n",
       "        text-align: right;\n",
       "    }\n",
       "</style>\n",
       "<table border=\"1\" class=\"dataframe\">\n",
       "  <thead>\n",
       "    <tr style=\"text-align: right;\">\n",
       "      <th></th>\n",
       "      <th>head_l</th>\n",
       "      <th>skull_w</th>\n",
       "      <th>skull_w_copy</th>\n",
       "    </tr>\n",
       "  </thead>\n",
       "  <tbody>\n",
       "    <tr>\n",
       "      <th>0</th>\n",
       "      <td>94.1</td>\n",
       "      <td>60.4</td>\n",
       "      <td>60.4</td>\n",
       "    </tr>\n",
       "    <tr>\n",
       "      <th>1</th>\n",
       "      <td>92.5</td>\n",
       "      <td>57.6</td>\n",
       "      <td>57.6</td>\n",
       "    </tr>\n",
       "    <tr>\n",
       "      <th>2</th>\n",
       "      <td>94.0</td>\n",
       "      <td>60.0</td>\n",
       "      <td>60.0</td>\n",
       "    </tr>\n",
       "    <tr>\n",
       "      <th>3</th>\n",
       "      <td>93.2</td>\n",
       "      <td>57.1</td>\n",
       "      <td>57.1</td>\n",
       "    </tr>\n",
       "    <tr>\n",
       "      <th>4</th>\n",
       "      <td>91.5</td>\n",
       "      <td>56.3</td>\n",
       "      <td>56.3</td>\n",
       "    </tr>\n",
       "  </tbody>\n",
       "</table>\n",
       "</div>"
      ],
      "text/plain": [
       "   head_l  skull_w  skull_w_copy\n",
       "0    94.1     60.4          60.4\n",
       "1    92.5     57.6          57.6\n",
       "2    94.0     60.0          60.0\n",
       "3    93.2     57.1          57.1\n",
       "4    91.5     56.3          56.3"
      ]
     },
     "execution_count": 4,
     "metadata": {},
     "output_type": "execute_result"
    }
   ],
   "source": [
    "df['skull_w_copy'] = df['skull_w']\n",
    "\n",
    "df.head()"
   ]
  },
  {
   "cell_type": "code",
   "execution_count": 16,
   "id": "032f4aa1",
   "metadata": {},
   "outputs": [
    {
     "name": "stderr",
     "output_type": "stream",
     "text": [
      "Initializing NUTS using jitter+adapt_diag...\n",
      "Multiprocess sampling (4 chains in 4 jobs)\n",
      "NUTS: [intercept, skull_w, skull_w_copy, sigma]\n"
     ]
    },
    {
     "data": {
      "application/vnd.jupyter.widget-view+json": {
       "model_id": "e43125c180cd4fa3b8c3198782e67072",
       "version_major": 2,
       "version_minor": 0
      },
      "text/plain": [
       "Output()"
      ]
     },
     "metadata": {},
     "output_type": "display_data"
    },
    {
     "data": {
      "text/html": [
       "<pre style=\"white-space:pre;overflow-x:auto;line-height:normal;font-family:Menlo,'DejaVu Sans Mono',consolas,'Courier New',monospace\"></pre>\n"
      ],
      "text/plain": []
     },
     "metadata": {},
     "output_type": "display_data"
    },
    {
     "name": "stderr",
     "output_type": "stream",
     "text": [
      "Sampling 4 chains for 2_000 tune and 1_000 draw iterations (8_000 + 4_000 draws total) took 9 seconds.\n"
     ]
    }
   ],
   "source": [
    "with pm.Model() as model1:\n",
    "\n",
    "    cept = pm.Normal('intercept', 92.6, 1)\n",
    "\n",
    "    # I don't mess with the symmetry\n",
    "    beta_skullw = pm.Normal('skull_w', 0, 3)\n",
    "    beta_skullw_copy = pm.Normal('skull_w_copy', 0, 3)\n",
    "\n",
    "    # Sigma has to be positive\n",
    "    sigma = pm.HalfNormal('sigma', 6)\n",
    "\n",
    "    # Estimation\n",
    "    mu = cept + (skull_w_centered*beta_skullw) + (skull_w_centered_copy*beta_skullw_copy)\n",
    "    y = pm.Normal('y', mu=mu, sigma=sigma, observed=df['head_l'])\n",
    "\n",
    "    pm.Deterministic('beta_sum', beta_skullw + beta_skullw_copy) # This is actually what's identifiable.\n",
    "\n",
    "    trace = pm.sample(1000, tune=2000)"
   ]
  },
  {
   "cell_type": "code",
   "execution_count": 17,
   "id": "5e4fa9de",
   "metadata": {},
   "outputs": [
    {
     "data": {
      "text/plain": [
       "array([<Axes: title={'center': 'skull_w'}>,\n",
       "       <Axes: title={'center': 'skull_w_copy'}>,\n",
       "       <Axes: title={'center': 'beta_sum'}>], dtype=object)"
      ]
     },
     "execution_count": 17,
     "metadata": {},
     "output_type": "execute_result"
    },
    {
     "data": {
      "image/png": "[encoded data removed]",
      "text/plain": [
       "<Figure size 1552.5x301.875 with 3 Axes>"
      ]
     },
     "metadata": {},
     "output_type": "display_data"
    }
   ],
   "source": [
    "az.plot_posterior(trace, var_names=['skull_w', 'skull_w_copy', 'beta_sum'], hdi_prob=.89)"
   ]
  },
  {
   "cell_type": "code",
   "execution_count": 19,
   "id": "e94d2193",
   "metadata": {},
   "outputs": [
    {
     "data": {
      "text/plain": [
       "<matplotlib.collections.PathCollection at 0x1641eb410>"
      ]
     },
     "execution_count": 19,
     "metadata": {},
     "output_type": "execute_result"
    },
    {
     "data": {
      "image/png": "[encoded data removed]",
      "text/plain": [
       "<Figure size 525x375 with 1 Axes>"
      ]
     },
     "metadata": {},
     "output_type": "display_data"
    }
   ],
   "source": [
    "skull_w_dist = trace.posterior['skull_w'][1]\n",
    "skull_w_copy_dist = trace.posterior['skull_w_copy'][1]\n",
    "\n",
    "plt.figure(figsize=(7, 5))\n",
    "\n",
    "plt.scatter(skull_w_dist, skull_w_copy_dist, s=15, alpha=.43)"
   ]
  },
  {
   "cell_type": "code",
   "execution_count": 20,
   "id": "0e299627",
   "metadata": {},
   "outputs": [
    {
     "name": "stdout",
     "output_type": "stream",
     "text": [
      "(2.1719939977885847, -1.26952688557421)\n",
      "(0.4554015427374477, 0.2744283320413641)\n",
      "(1.4619682228648934, -0.6567439452181076)\n",
      "(1.744581113218752, -0.85540185790859)\n",
      "(-1.054535017664959, 1.987257401399897)\n",
      "(1.5541538977650355, -0.7291865925845055)\n",
      "(0.2624248774653002, 0.6081965328591851)\n",
      "(1.357268352948161, -0.46139537255610363)\n",
      "(1.9091333381189857, -0.8864721497806237)\n",
      "(-1.9855787873259831, 2.8171167716562304)\n"
     ]
    }
   ],
   "source": [
    "for i in range(10):\n",
    "    print((float(skull_w_dist[i]), float(skull_w_copy_dist[i])))"
   ]
  },
  {
   "cell_type": "markdown",
   "id": "0eed667a",
   "metadata": {},
   "source": [
    "Okay, the things that get attention on the first row of plots:\n",
    "\n",
    "- The posterior distributions are extremely wide for both betas, reflecting the uncertainty.\n",
    "- Could you calculate the sum of their means? :)\n",
    "- Looking at the distribution of `beta_sum`: It's centered around 0.81 with not so wide range. It's because _only_ the *sum* is identifiable.\n",
    "\n",
    "_Unidentifiability_ means that the model does not make it possible to estimate the value of the parameter. Multicollinearity falls into this bucket of problems."
   ]
  },
  {
   "cell_type": "markdown",
   "id": "5ff29215",
   "metadata": {},
   "source": [
    "The second plot is showing actually what's going on. _After knowing the value of one, what's the value of the other?_ Well, both variables carry the same information. Hence, as you know one the other doesn't help much — ridge of equally plausible joint values."
   ]
  },
  {
   "cell_type": "markdown",
   "id": "f0b38997",
   "metadata": {},
   "source": [
    "$\\displaystyle y = \\beta_{0} + \\beta_{1}X_1 + \\beta_{2}X_2$\n",
    "\n",
    "Those variables are the same in our example, so let's denote both as X.\n",
    "\n",
    "$\\displaystyle y = \\beta_{0} + \\beta_{1}X + \\beta_{2}X$\n",
    "\n",
    "Which leads to:\n",
    "\n",
    "$\\displaystyle y = \\beta_{0} + (\\beta_{1}+\\beta_{2})X$\n",
    "\n",
    "Hence, they are not separable. The effect on y is their sum."
   ]
  },
  {
   "cell_type": "markdown",
   "id": "13122b1c",
   "metadata": {},
   "source": [
    "Alright, so, _is the model wrong?_\n",
    "\n",
    "Nope. Predictions will be just fine, if that's what you care about. You just can't separate the effect of either variable, so you can't make up your mind about which one is more important."
   ]
  },
  {
   "cell_type": "markdown",
   "id": "fee144ad",
   "metadata": {},
   "source": [
    "I hope this post helps with internalizing what the issue is with multicollinearity. I'll keep up with stats posts in the future. Until then, take care. "
   ]
  }
 ],
 "metadata": {
  "kernelspec": {
   "display_name": "pymc_env",
   "language": "python",
   "name": "python3"
  },
  "language_info": {
   "codemirror_mode": {
    "name": "ipython",
    "version": 3
   },
   "file_extension": ".py",
   "mimetype": "text/x-python",
   "name": "python",
   "nbconvert_exporter": "python",
   "pygments_lexer": "ipython3",
   "version": "3.12.8"
  }
 },
 "nbformat": 4,
 "nbformat_minor": 5
}
