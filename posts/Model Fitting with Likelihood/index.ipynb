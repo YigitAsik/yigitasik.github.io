{
 "cells": [
  {
   "cell_type": "raw",
   "metadata": {},
   "source": [
    "---\n",
    "title: \"Understanding Model Fitting with Likelihood\"\n",
    "author: \"Yiğit Aşık\"\n",
    "date: \"January 25, 2025\"\n",
    "categories: [Stats]\n",
    "---"
   ]
  },
  {
   "cell_type": "markdown",
   "metadata": {},
   "source": [
    "In daily life, \"probability\" and \"likelihood\" are used interchangeably. But, they don't refer to the same thing. I believe the most intuitive way to distinguish both is by thinking about the information you have while answering questions:\n",
    "\n",
    "- Probability questions start with *known model* and *unknown data*. If someone asks you about the chance of seeing 6 heads in 10 coin tosses, you don't have any observations. But, you have the model: You know the process that generates \"heads\" and \"tails\" and it's parameter value (usually expressed as theta *θ*): 0.5.\n",
    "- Let's say you did 10 coin tosses and ended up with 9 heads. How likely you were to observe 9 if the coin was fair? In this situation, the data is *known* and the question refers to the underlying data generating process (i.e., refers to the parameter).\n",
    "\n",
    "We can use this type of approach and let the parameter values *vary* and calculate the likelihood of the data under each value of the parameter(s)."
   ]
  },
  {
   "cell_type": "code",
   "execution_count": 1,
   "metadata": {},
   "outputs": [],
   "source": [
    "import numpy as np\n",
    "import pandas as pd\n",
    "\n",
    "from matplotlib import pyplot as plt\n",
    "import seaborn as sns\n",
    "\n",
    "import statsmodels as sm\n",
    "import empiricaldist as emd\n",
    "import scipy.stats as st\n",
    "\n",
    "import utils as ut\n",
    "\n",
    "import warnings\n",
    "\n",
    "warnings.filterwarnings('ignore')"
   ]
  },
  {
   "cell_type": "code",
   "execution_count": 2,
   "metadata": {},
   "outputs": [
    {
     "data": {
      "text/html": [
       "<div>\n",
       "<style scoped>\n",
       "    .dataframe tbody tr th:only-of-type {\n",
       "        vertical-align: middle;\n",
       "    }\n",
       "\n",
       "    .dataframe tbody tr th {\n",
       "        vertical-align: top;\n",
       "    }\n",
       "\n",
       "    .dataframe thead th {\n",
       "        text-align: right;\n",
       "    }\n",
       "</style>\n",
       "<table border=\"1\" class=\"dataframe\">\n",
       "  <thead>\n",
       "    <tr style=\"text-align: right;\">\n",
       "      <th></th>\n",
       "      <th>pop</th>\n",
       "      <th>tail_l</th>\n",
       "    </tr>\n",
       "  </thead>\n",
       "  <tbody>\n",
       "    <tr>\n",
       "      <th>0</th>\n",
       "      <td>Vic</td>\n",
       "      <td>36.0</td>\n",
       "    </tr>\n",
       "    <tr>\n",
       "      <th>1</th>\n",
       "      <td>Vic</td>\n",
       "      <td>36.5</td>\n",
       "    </tr>\n",
       "    <tr>\n",
       "      <th>2</th>\n",
       "      <td>Vic</td>\n",
       "      <td>39.0</td>\n",
       "    </tr>\n",
       "    <tr>\n",
       "      <th>3</th>\n",
       "      <td>Vic</td>\n",
       "      <td>38.0</td>\n",
       "    </tr>\n",
       "    <tr>\n",
       "      <th>4</th>\n",
       "      <td>Vic</td>\n",
       "      <td>36.0</td>\n",
       "    </tr>\n",
       "  </tbody>\n",
       "</table>\n",
       "</div>"
      ],
      "text/plain": [
       "   pop  tail_l\n",
       "0  Vic    36.0\n",
       "1  Vic    36.5\n",
       "2  Vic    39.0\n",
       "3  Vic    38.0\n",
       "4  Vic    36.0"
      ]
     },
     "execution_count": 2,
     "metadata": {},
     "output_type": "execute_result"
    }
   ],
   "source": [
    "possum = pd.read_csv('possum.csv', usecols=['pop', 'tail_l'])\n",
    "df = possum.copy()\n",
    "\n",
    "df.head()"
   ]
  },
  {
   "cell_type": "markdown",
   "metadata": {},
   "source": [
    "We'll use possum data, where each row corresponds to features of a possum from Australia and New Guinea. Let's attempt to predict which region a possum is from as a function of tail length."
   ]
  },
  {
   "cell_type": "markdown",
   "metadata": {},
   "source": [
    "I assume basic knowledge of logistic regression, which we'll use to model the relationship between our predictor and the binary target variable."
   ]
  },
  {
   "cell_type": "code",
   "execution_count": 3,
   "metadata": {},
   "outputs": [],
   "source": [
    "qs_cept = np.linspace(-3, 3, 241) # possible values for intercept (beta_0)\n",
    "qs_slope = np.linspace(-1, 1, 81) # possible values for slope (beta_1)"
   ]
  },
  {
   "cell_type": "code",
   "execution_count": 4,
   "metadata": {},
   "outputs": [
    {
     "name": "stdout",
     "output_type": "stream",
     "text": [
      "[-3.    -2.975 -2.95  -2.925 -2.9  ] \n",
      " [-1.    -0.975 -0.95  -0.925 -0.9  ]\n"
     ]
    }
   ],
   "source": [
    "print(qs_cept[:5], '\\n', qs_slope[:5])"
   ]
  },
  {
   "cell_type": "code",
   "execution_count": 5,
   "metadata": {},
   "outputs": [],
   "source": [
    "df_likeli = pd.DataFrame(index=range(len(qs_cept)), columns=range(len(qs_slope)))\n",
    "df_likeli.index = qs_cept\n",
    "df_likeli.columns = qs_slope"
   ]
  },
  {
   "cell_type": "code",
   "execution_count": 6,
   "metadata": {},
   "outputs": [
    {
     "data": {
      "text/html": [
       "<div>\n",
       "<style scoped>\n",
       "    .dataframe tbody tr th:only-of-type {\n",
       "        vertical-align: middle;\n",
       "    }\n",
       "\n",
       "    .dataframe tbody tr th {\n",
       "        vertical-align: top;\n",
       "    }\n",
       "\n",
       "    .dataframe thead th {\n",
       "        text-align: right;\n",
       "    }\n",
       "</style>\n",
       "<table border=\"1\" class=\"dataframe\">\n",
       "  <thead>\n",
       "    <tr style=\"text-align: right;\">\n",
       "      <th></th>\n",
       "      <th>-1.000</th>\n",
       "      <th>-0.975</th>\n",
       "      <th>-0.950</th>\n",
       "      <th>-0.925</th>\n",
       "      <th>-0.900</th>\n",
       "      <th>-0.875</th>\n",
       "      <th>-0.850</th>\n",
       "      <th>-0.825</th>\n",
       "      <th>-0.800</th>\n",
       "      <th>-0.775</th>\n",
       "      <th>...</th>\n",
       "      <th>0.775</th>\n",
       "      <th>0.800</th>\n",
       "      <th>0.825</th>\n",
       "      <th>0.850</th>\n",
       "      <th>0.875</th>\n",
       "      <th>0.900</th>\n",
       "      <th>0.925</th>\n",
       "      <th>0.950</th>\n",
       "      <th>0.975</th>\n",
       "      <th>1.000</th>\n",
       "    </tr>\n",
       "  </thead>\n",
       "  <tbody>\n",
       "    <tr>\n",
       "      <th>-3.000</th>\n",
       "      <td>1</td>\n",
       "      <td>1</td>\n",
       "      <td>1</td>\n",
       "      <td>1</td>\n",
       "      <td>1</td>\n",
       "      <td>1</td>\n",
       "      <td>1</td>\n",
       "      <td>1</td>\n",
       "      <td>1</td>\n",
       "      <td>1</td>\n",
       "      <td>...</td>\n",
       "      <td>1</td>\n",
       "      <td>1</td>\n",
       "      <td>1</td>\n",
       "      <td>1</td>\n",
       "      <td>1</td>\n",
       "      <td>1</td>\n",
       "      <td>1</td>\n",
       "      <td>1</td>\n",
       "      <td>1</td>\n",
       "      <td>1</td>\n",
       "    </tr>\n",
       "    <tr>\n",
       "      <th>-2.975</th>\n",
       "      <td>1</td>\n",
       "      <td>1</td>\n",
       "      <td>1</td>\n",
       "      <td>1</td>\n",
       "      <td>1</td>\n",
       "      <td>1</td>\n",
       "      <td>1</td>\n",
       "      <td>1</td>\n",
       "      <td>1</td>\n",
       "      <td>1</td>\n",
       "      <td>...</td>\n",
       "      <td>1</td>\n",
       "      <td>1</td>\n",
       "      <td>1</td>\n",
       "      <td>1</td>\n",
       "      <td>1</td>\n",
       "      <td>1</td>\n",
       "      <td>1</td>\n",
       "      <td>1</td>\n",
       "      <td>1</td>\n",
       "      <td>1</td>\n",
       "    </tr>\n",
       "    <tr>\n",
       "      <th>-2.950</th>\n",
       "      <td>1</td>\n",
       "      <td>1</td>\n",
       "      <td>1</td>\n",
       "      <td>1</td>\n",
       "      <td>1</td>\n",
       "      <td>1</td>\n",
       "      <td>1</td>\n",
       "      <td>1</td>\n",
       "      <td>1</td>\n",
       "      <td>1</td>\n",
       "      <td>...</td>\n",
       "      <td>1</td>\n",
       "      <td>1</td>\n",
       "      <td>1</td>\n",
       "      <td>1</td>\n",
       "      <td>1</td>\n",
       "      <td>1</td>\n",
       "      <td>1</td>\n",
       "      <td>1</td>\n",
       "      <td>1</td>\n",
       "      <td>1</td>\n",
       "    </tr>\n",
       "    <tr>\n",
       "      <th>-2.925</th>\n",
       "      <td>1</td>\n",
       "      <td>1</td>\n",
       "      <td>1</td>\n",
       "      <td>1</td>\n",
       "      <td>1</td>\n",
       "      <td>1</td>\n",
       "      <td>1</td>\n",
       "      <td>1</td>\n",
       "      <td>1</td>\n",
       "      <td>1</td>\n",
       "      <td>...</td>\n",
       "      <td>1</td>\n",
       "      <td>1</td>\n",
       "      <td>1</td>\n",
       "      <td>1</td>\n",
       "      <td>1</td>\n",
       "      <td>1</td>\n",
       "      <td>1</td>\n",
       "      <td>1</td>\n",
       "      <td>1</td>\n",
       "      <td>1</td>\n",
       "    </tr>\n",
       "    <tr>\n",
       "      <th>-2.900</th>\n",
       "      <td>1</td>\n",
       "      <td>1</td>\n",
       "      <td>1</td>\n",
       "      <td>1</td>\n",
       "      <td>1</td>\n",
       "      <td>1</td>\n",
       "      <td>1</td>\n",
       "      <td>1</td>\n",
       "      <td>1</td>\n",
       "      <td>1</td>\n",
       "      <td>...</td>\n",
       "      <td>1</td>\n",
       "      <td>1</td>\n",
       "      <td>1</td>\n",
       "      <td>1</td>\n",
       "      <td>1</td>\n",
       "      <td>1</td>\n",
       "      <td>1</td>\n",
       "      <td>1</td>\n",
       "      <td>1</td>\n",
       "      <td>1</td>\n",
       "    </tr>\n",
       "  </tbody>\n",
       "</table>\n",
       "<p>5 rows × 81 columns</p>\n",
       "</div>"
      ],
      "text/plain": [
       "        -1.000  -0.975  -0.950  -0.925  -0.900  -0.875  -0.850  -0.825  \\\n",
       "-3.000       1       1       1       1       1       1       1       1   \n",
       "-2.975       1       1       1       1       1       1       1       1   \n",
       "-2.950       1       1       1       1       1       1       1       1   \n",
       "-2.925       1       1       1       1       1       1       1       1   \n",
       "-2.900       1       1       1       1       1       1       1       1   \n",
       "\n",
       "        -0.800  -0.775  ...   0.775   0.800   0.825   0.850   0.875   0.900  \\\n",
       "-3.000       1       1  ...       1       1       1       1       1       1   \n",
       "-2.975       1       1  ...       1       1       1       1       1       1   \n",
       "-2.950       1       1  ...       1       1       1       1       1       1   \n",
       "-2.925       1       1  ...       1       1       1       1       1       1   \n",
       "-2.900       1       1  ...       1       1       1       1       1       1   \n",
       "\n",
       "         0.925   0.950   0.975   1.000  \n",
       "-3.000       1       1       1       1  \n",
       "-2.975       1       1       1       1  \n",
       "-2.950       1       1       1       1  \n",
       "-2.925       1       1       1       1  \n",
       "-2.900       1       1       1       1  \n",
       "\n",
       "[5 rows x 81 columns]"
      ]
     },
     "execution_count": 6,
     "metadata": {},
     "output_type": "execute_result"
    }
   ],
   "source": [
    "df_likeli.fillna(1, inplace=True)\n",
    "\n",
    "df_likeli.head()"
   ]
  },
  {
   "cell_type": "markdown",
   "metadata": {},
   "source": [
    "So, what I have done is I created grid of equally spaced values both for intercept and the slope. I put them into a dataframe where columns represent possible values for slope and indices represent possible values for intercept."
   ]
  },
  {
   "cell_type": "markdown",
   "metadata": {},
   "source": [
    "Now, I ask this question: For each pair of intercept and slope, b0 and b1, how likely I am to see the observed data?"
   ]
  },
  {
   "cell_type": "code",
   "execution_count": 7,
   "metadata": {},
   "outputs": [],
   "source": [
    "df['pop'] = df['pop'].apply(lambda x: 1 if x == 'Vic' else 0)"
   ]
  },
  {
   "cell_type": "code",
   "execution_count": 8,
   "metadata": {},
   "outputs": [],
   "source": [
    "# Centering data\n",
    "\n",
    "offset = df['tail_l'].mean().round()\n",
    "df['x'] = df['tail_l'] - offset\n",
    "df['y'] = df['pop']\n",
    "\n",
    "# I refer our predictor as x from now on (for convenience), y becomes our target variable which takes 1 if possum is from Victoria region and 0 otherwise."
   ]
  },
  {
   "cell_type": "code",
   "execution_count": 9,
   "metadata": {},
   "outputs": [
    {
     "data": {
      "text/html": [
       "<div>\n",
       "<style scoped>\n",
       "    .dataframe tbody tr th:only-of-type {\n",
       "        vertical-align: middle;\n",
       "    }\n",
       "\n",
       "    .dataframe tbody tr th {\n",
       "        vertical-align: top;\n",
       "    }\n",
       "\n",
       "    .dataframe thead th {\n",
       "        text-align: right;\n",
       "    }\n",
       "</style>\n",
       "<table border=\"1\" class=\"dataframe\">\n",
       "  <thead>\n",
       "    <tr style=\"text-align: right;\">\n",
       "      <th>x</th>\n",
       "      <th>-5.0</th>\n",
       "      <th>-3.5</th>\n",
       "      <th>-3.0</th>\n",
       "      <th>-2.5</th>\n",
       "      <th>-2.0</th>\n",
       "      <th>-1.5</th>\n",
       "      <th>-1.0</th>\n",
       "      <th>-0.5</th>\n",
       "      <th>0.0</th>\n",
       "      <th>0.5</th>\n",
       "    </tr>\n",
       "  </thead>\n",
       "  <tbody>\n",
       "    <tr>\n",
       "      <th>sum</th>\n",
       "      <td>2</td>\n",
       "      <td>1</td>\n",
       "      <td>4</td>\n",
       "      <td>2</td>\n",
       "      <td>6</td>\n",
       "      <td>6</td>\n",
       "      <td>9</td>\n",
       "      <td>4</td>\n",
       "      <td>4</td>\n",
       "      <td>1</td>\n",
       "    </tr>\n",
       "    <tr>\n",
       "      <th>count</th>\n",
       "      <td>2</td>\n",
       "      <td>1</td>\n",
       "      <td>5</td>\n",
       "      <td>2</td>\n",
       "      <td>9</td>\n",
       "      <td>7</td>\n",
       "      <td>13</td>\n",
       "      <td>12</td>\n",
       "      <td>6</td>\n",
       "      <td>4</td>\n",
       "    </tr>\n",
       "  </tbody>\n",
       "</table>\n",
       "</div>"
      ],
      "text/plain": [
       "x      -5.0  -3.5  -3.0  -2.5  -2.0  -1.5  -1.0  -0.5   0.0   0.5\n",
       "sum       2     1     4     2     6     6     9     4     4     1\n",
       "count     2     1     5     2     9     7    13    12     6     4"
      ]
     },
     "execution_count": 9,
     "metadata": {},
     "output_type": "execute_result"
    }
   ],
   "source": [
    "agg_data = df.groupby('x')['y'].agg(['sum', 'count'])\n",
    "agg_data.head(10).T"
   ]
  },
  {
   "cell_type": "code",
   "execution_count": 10,
   "metadata": {},
   "outputs": [],
   "source": [
    "ns = agg_data['count'] # represents number of observation with corresponding x values\n",
    "ks = agg_data['sum'] # represents successes, which means Victoria region"
   ]
  },
  {
   "cell_type": "markdown",
   "metadata": {},
   "source": [
    "People get confused, rightfully, when they hear logistic regression getting mentioned as a linear model since all they see is an S-shaped function in a classic graph where x-axis represents the predictor and y-axis represents the probability. But that squiggle is a result of a transformation of log odds into probabilities. You may have deduced that before if you have taken a look at the equation:\n",
    "\n",
    "$\\displaystyle log_e(\\frac{p_i}{1 - p_i}) = \\beta_0 + \\beta_1 x_{1i} + ... + \\beta_k x_{k_i}$\n",
    "\n",
    "However, we know that odds can be expressed as probabilities, so we'll make that transformation."
   ]
  },
  {
   "cell_type": "markdown",
   "metadata": {},
   "source": [
    "For representation let's select an intercept and a slope:"
   ]
  },
  {
   "cell_type": "code",
   "execution_count": 11,
   "metadata": {},
   "outputs": [],
   "source": [
    "cept = 0\n",
    "slope = 1"
   ]
  },
  {
   "cell_type": "code",
   "execution_count": 12,
   "metadata": {},
   "outputs": [
    {
     "data": {
      "text/plain": [
       "Index([0.006692850924284856, 0.029312230751356316,  0.04742587317756679,\n",
       "        0.07585818002124356,  0.11920292202211755,  0.18242552380635632],\n",
       "      dtype='float64', name='x')"
      ]
     },
     "execution_count": 12,
     "metadata": {},
     "output_type": "execute_result"
    }
   ],
   "source": [
    "x_values = agg_data.index\n",
    "log_odds = cept + slope * x_values\n",
    "odds = np.exp(log_odds)\n",
    "ps = odds / (odds + 1)\n",
    "ps[:6] # Probabilities coming from the model"
   ]
  },
  {
   "cell_type": "markdown",
   "metadata": {},
   "source": [
    "How likely I am to observe k success in n trials with $p_i$ where $p_i$ comes from the model above."
   ]
  },
  {
   "cell_type": "code",
   "execution_count": 13,
   "metadata": {},
   "outputs": [
    {
     "data": {
      "text/plain": [
       "array([4.47942535e-05, 2.93122308e-02, 2.40951774e-05, 5.75446348e-03,\n",
       "       1.64675234e-04, 2.10930303e-04])"
      ]
     },
     "execution_count": 13,
     "metadata": {},
     "output_type": "execute_result"
    }
   ],
   "source": [
    "# How likely I am to observe k success in n trials with p_i where p_i comes from model\n",
    "likelis = st.binom.pmf(ks, ns, ps)\n",
    "likelis[:6]"
   ]
  },
  {
   "cell_type": "code",
   "execution_count": 14,
   "metadata": {},
   "outputs": [
    {
     "data": {
      "text/plain": [
       "6.58621661515704e-55"
      ]
     },
     "execution_count": 14,
     "metadata": {},
     "output_type": "execute_result"
    }
   ],
   "source": [
    "# Taking the product for whole data\n",
    "likelis.prod()"
   ]
  },
  {
   "cell_type": "markdown",
   "metadata": {},
   "source": [
    "Let's take a look at the fit:"
   ]
  },
  {
   "cell_type": "code",
   "execution_count": 15,
   "metadata": {},
   "outputs": [
    {
     "data": {
      "image/png": "[encoded data removed]",
      "text/plain": [
       "<Figure size 600x400 with 1 Axes>"
      ]
     },
     "metadata": {},
     "output_type": "display_data"
    }
   ],
   "source": [
    "plt.figure(figsize=(6,4))\n",
    "\n",
    "plt.plot(x_values+offset, ps, label='model', color='C1')\n",
    "plt.scatter(df['x']+offset, df['y'], s=30, label='data')\n",
    "\n",
    "ut.decorate()"
   ]
  },
  {
   "cell_type": "markdown",
   "metadata": {},
   "source": [
    "This was for only one pair of intercept and slope, and it seems like we can do better. We calculated the likelihood for education purposes here but in general, likelihoods by themselves does not mean much (it's relatively a ). Let's try other possible pairs for our parameters and compare the likelihoods of each to take the one that maximizes the likelihood of the observed data."
   ]
  },
  {
   "cell_type": "code",
   "execution_count": 16,
   "metadata": {},
   "outputs": [],
   "source": [
    "from scipy.special import expit\n",
    "\n",
    "likelihood = df_likeli.copy()\n",
    "\n",
    "for cept in likelihood.index:\n",
    "    for slope in likelihood.columns:\n",
    "        probs = expit(cept + slope * x_values) # transformation to probabilities\n",
    "        likelis = st.binom.pmf(ks, ns, probs) # likelihood of each observation\n",
    "        likelihood.loc[likelihood.index == cept, slope] = likelis.prod() # likelihood of the whole data under the selected pair of parameter values"
   ]
  },
  {
   "cell_type": "code",
   "execution_count": 17,
   "metadata": {},
   "outputs": [
    {
     "name": "stdout",
     "output_type": "stream",
     "text": [
      "-0.32499999999999973 -0.7\n"
     ]
    }
   ],
   "source": [
    "row, col = likelihood.stack().idxmax()\n",
    "print(row, col)"
   ]
  },
  {
   "cell_type": "markdown",
   "metadata": {},
   "source": [
    "This is the pair that maximizes the likelihood."
   ]
  },
  {
   "cell_type": "code",
   "execution_count": 18,
   "metadata": {},
   "outputs": [],
   "source": [
    "cept = row\n",
    "slope = col\n",
    "\n",
    "log_odds = cept + slope * x_values\n",
    "odds = np.exp(log_odds)\n",
    "ps = odds / (odds + 1)"
   ]
  },
  {
   "cell_type": "code",
   "execution_count": 19,
   "metadata": {},
   "outputs": [
    {
     "data": {
      "image/png": "[encoded data removed]",
      "text/plain": [
       "<Figure size 600x400 with 1 Axes>"
      ]
     },
     "metadata": {},
     "output_type": "display_data"
    }
   ],
   "source": [
    "plt.figure(figsize=(6,4))\n",
    "\n",
    "plt.plot(x_values+offset, ps, label='model', color='C1')\n",
    "plt.scatter(df['x']+offset, df['y'], s=30, label='data')\n",
    "\n",
    "ut.decorate()"
   ]
  },
  {
   "cell_type": "markdown",
   "metadata": {},
   "source": [
    "Let's check our parameter estimates with the help of statsmodels:"
   ]
  },
  {
   "cell_type": "code",
   "execution_count": 20,
   "metadata": {},
   "outputs": [
    {
     "data": {
      "text/plain": [
       "Intercept   -0.320498\n",
       "x           -0.699641\n",
       "dtype: float64"
      ]
     },
     "execution_count": 20,
     "metadata": {},
     "output_type": "execute_result"
    }
   ],
   "source": [
    "import statsmodels.formula.api as smf\n",
    "\n",
    "formula = 'y ~ x'\n",
    "results = smf.logit(formula, data=df).fit(disp=False)\n",
    "results.params"
   ]
  },
  {
   "cell_type": "markdown",
   "metadata": {},
   "source": [
    "We didn't get those exact values since we used *grid approximation*, and the grid that I created didn't include those exact values. Let's drop a few details here:\n",
    "\n",
    "- As the parameter space gets larger, the computational process becomes slower. So, there's that trade-off between precision and time.\n",
    "- We only had two parameters to estimate and that's OK for grid approach. However, once you start to get more than three, number of possible combination for parameters gets incredibly large which makes grid approach infeasible.\n",
    "- Another thing is related to the number of observation while calculating the likelihood: When you try to take the product of the likelihoods when there are many observations, you may ran into a issue called *underflow*, where computer has trouble multiplying bunch of values around zero. Hence, *log likelihood* comes to rescue: Logarithms takes the values around zero away from zero, thus solving the underflow problem."
   ]
  },
  {
   "cell_type": "markdown",
   "metadata": {},
   "source": [
    "I hope this example made likelihoods more intuitive. There's more to know about them: Are they probability densities? Are they probability masses? Or are they both? That's for a whole different post, things can get messy in a second. However, it's important to understand likelihoods in the context above, since they can be used to update our beliefs about parameters which is what we do with Bayesian methods.\n",
    "\n",
    "As usual, have a nice weekend :)"
   ]
  }
 ],
 "metadata": {
  "kernelspec": {
   "display_name": "pymc_env",
   "language": "python",
   "name": "python3"
  },
  "language_info": {
   "codemirror_mode": {
    "name": "ipython",
    "version": 3
   },
   "file_extension": ".py",
   "mimetype": "text/x-python",
   "name": "python",
   "nbconvert_exporter": "python",
   "pygments_lexer": "ipython3",
   "version": "3.12.8"
  }
 },
 "nbformat": 4,
 "nbformat_minor": 2
}
