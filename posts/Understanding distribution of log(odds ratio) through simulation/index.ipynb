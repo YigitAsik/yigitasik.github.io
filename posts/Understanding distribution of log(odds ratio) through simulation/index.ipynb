{
 "cells": [
  {
   "cell_type": "raw",
   "id": "a758b4a9",
   "metadata": {
    "vscode": {
     "languageId": "raw"
    }
   },
   "source": [
    "---\n",
    "title: \"Understanding Distribution of log(odds ratio) Through Simulation\"\n",
    "author: \"Yiğit Aşık\"\n",
    "date: \"January 18, 2025\"\n",
    "categories: [Stats, Inference]\n",
    "---"
   ]
  },
  {
   "cell_type": "code",
   "execution_count": 1,
   "id": "e9f50ba4-bbd2-48ca-a467-6fe5d747be9c",
   "metadata": {},
   "outputs": [],
   "source": [
    "import numpy as np\n",
    "import pandas as pd\n",
    "\n",
    "import matplotlib.pyplot as plt\n",
    "from matplotlib.ticker import AutoMinorLocator\n",
    "import seaborn as sns\n",
    "\n",
    "import scipy.stats as st"
   ]
  },
  {
   "cell_type": "markdown",
   "id": "08eb6d30",
   "metadata": {},
   "source": [
    "I wanted to put this example out because one of my colleague asked me a question about result table of logistic regression. Back in the day while I was watching the [video](https://www.youtube.com/watch?v=8nm0G-1uJzA), Josh Starmer said distribution of log(odds ratio) is approximately normal and gave an idea of how to simulate. I didn't end up his way of simulating, if you want that maybe you should follow the approach in the video but we actually both do the same thing. "
   ]
  },
  {
   "cell_type": "markdown",
   "id": "87a07589",
   "metadata": {},
   "source": [
    "Let's say we have the following information:"
   ]
  },
  {
   "cell_type": "code",
   "execution_count": 2,
   "id": "d0f4e0f8",
   "metadata": {},
   "outputs": [
    {
     "data": {
      "text/html": [
       "<div>\n",
       "<style scoped>\n",
       "    .dataframe tbody tr th:only-of-type {\n",
       "        vertical-align: middle;\n",
       "    }\n",
       "\n",
       "    .dataframe tbody tr th {\n",
       "        vertical-align: top;\n",
       "    }\n",
       "\n",
       "    .dataframe thead th {\n",
       "        text-align: right;\n",
       "    }\n",
       "</style>\n",
       "<table border=\"1\" class=\"dataframe\">\n",
       "  <thead>\n",
       "    <tr style=\"text-align: right;\">\n",
       "      <th>has_cancer</th>\n",
       "      <th>no</th>\n",
       "      <th>yes</th>\n",
       "    </tr>\n",
       "    <tr>\n",
       "      <th>mutated_gene</th>\n",
       "      <th></th>\n",
       "      <th></th>\n",
       "    </tr>\n",
       "  </thead>\n",
       "  <tbody>\n",
       "    <tr>\n",
       "      <th>no</th>\n",
       "      <td>210</td>\n",
       "      <td>6</td>\n",
       "    </tr>\n",
       "    <tr>\n",
       "      <th>yes</th>\n",
       "      <td>117</td>\n",
       "      <td>23</td>\n",
       "    </tr>\n",
       "  </tbody>\n",
       "</table>\n",
       "</div>"
      ],
      "text/plain": [
       "has_cancer     no  yes\n",
       "mutated_gene          \n",
       "no            210    6\n",
       "yes           117   23"
      ]
     },
     "execution_count": 2,
     "metadata": {},
     "output_type": "execute_result"
    }
   ],
   "source": [
    "cancer_gene_cb = pd.crosstab(['yes', 'no'], ['yes', 'no'], rownames=['mutated_gene'], colnames=['has_cancer'])\n",
    "cancer_gene_cb.loc['yes', 'yes'] = 23\n",
    "cancer_gene_cb.loc['yes', 'no'] = 117\n",
    "cancer_gene_cb.loc['no', 'no'] = 210\n",
    "cancer_gene_cb.loc['no', 'yes'] = 6\n",
    "\n",
    "cancer_gene_cb"
   ]
  },
  {
   "cell_type": "markdown",
   "id": "97460939",
   "metadata": {},
   "source": [
    "Let's represent the information in a different way. For the ones who are not familiar, *odds* is ratio of something happening to something not happening. When there's *odds ratio*, it actually means *ratio of odds*."
   ]
  },
  {
   "cell_type": "code",
   "execution_count": 3,
   "id": "09e7b107",
   "metadata": {},
   "outputs": [
    {
     "name": "stdout",
     "output_type": "stream",
     "text": [
      "1.93\n"
     ]
    }
   ],
   "source": [
    "# Given the mutated version of the gene, odds of having cancer\n",
    "mutated_gene_odds = cancer_gene_cb.loc['yes', 'yes'] / cancer_gene_cb.loc['yes', 'no'] # 23 / 117\n",
    "\n",
    "# Given the wild version of the gene, odds of having cancer\n",
    "wild_gene_odds = cancer_gene_cb.loc['no', 'yes'] / cancer_gene_cb.loc['no', 'no'] # 6 / 210\n",
    "\n",
    "odds_ratio = mutated_gene_odds / wild_gene_odds # 6.88\n",
    "\n",
    "log_odds_ratio = round(np.log(odds_ratio), 2)\n",
    "print(log_odds_ratio)"
   ]
  },
  {
   "cell_type": "markdown",
   "id": "2e0251b7",
   "metadata": {},
   "source": [
    "It seems like people who have the mutated gene have higher odds (i.e., 6.88 times more likely) in terms of having cancer. But I wonder if this is statistically significant. \\\n",
    "So, I want to do a simulation see how often would I see the *log(odds ratio)* of 1.93 under the assumption of no relationship between the two variables. If I don't see it very often, I make sense to act as if there's a difference. \\\n",
    "\n",
    "Let's go through a simulation:"
   ]
  },
  {
   "cell_type": "code",
   "execution_count": 4,
   "id": "cd5e4812-3a2e-4e57-9440-9c538e550fc0",
   "metadata": {},
   "outputs": [],
   "source": [
    "li = [] # creating an empty bag\n",
    "sample_size = 356 # our sample size"
   ]
  },
  {
   "cell_type": "markdown",
   "id": "101d2ab4",
   "metadata": {},
   "source": [
    "Creating 29 \"cancer\" written cards and putting them in a bag, representing the number of people with cancer in our sample."
   ]
  },
  {
   "cell_type": "code",
   "execution_count": 5,
   "id": "35f2b2bc-4ed2-4f88-ab7f-f7353f8bbd44",
   "metadata": {},
   "outputs": [],
   "source": [
    "for i in range(0, 29):\n",
    "    li.append('cancer')"
   ]
  },
  {
   "cell_type": "markdown",
   "id": "543dec5a",
   "metadata": {},
   "source": [
    "Creating 327 \"no cancer\" written cards and putting them in a bag, representing the number of people without cancer in our sample."
   ]
  },
  {
   "cell_type": "code",
   "execution_count": 6,
   "id": "b33cc8bf-c241-4029-bd7a-abb71237ec9e",
   "metadata": {},
   "outputs": [],
   "source": [
    "for j in range(0, 327):\n",
    "    li.append('no cancer')"
   ]
  },
  {
   "cell_type": "code",
   "execution_count": 7,
   "id": "7a16fbdb-a3c6-462d-a980-1f8245d35b2a",
   "metadata": {},
   "outputs": [],
   "source": [
    "mutated_version = []\n",
    "wild_version = []"
   ]
  },
  {
   "cell_type": "markdown",
   "id": "c0ffc213",
   "metadata": {},
   "source": [
    "There are 140 people with cancer, 216 people without cancer. Under the assumption of no relationship between the cancer and the gene variant, I'd expect no difference between odds of cancer given the mutated gene and given the wild gene. In other words, knowing the gene variant does not provide any meaningful information."
   ]
  },
  {
   "cell_type": "code",
   "execution_count": 8,
   "id": "df50bdf6-67bf-4b59-83e6-d20a482cff3f",
   "metadata": {},
   "outputs": [],
   "source": [
    "for i in range(10000):\n",
    "    sampl_all = np.random.choice(li, size=len(li)) #  Shuffling the bag (cards)\n",
    "\n",
    "    #  Taking 140 of them (representing the number of participants with mutated gene)\n",
    "    sampl_mutated_version = sampl_all[:140].tolist()\n",
    "    # and calculating the odds in favor of cancer in the mutated gene group\n",
    "    mutated_version.append(sampl_mutated_version.count('cancer') / sampl_mutated_version.count('no cancer')) \n",
    "\n",
    "    #  Taking rest of the cards (representing the number of participants in the non-mutated gene group)\n",
    "    sampl_wild_version = sampl_all[140:].tolist() \n",
    "    #  and calculating the odds in favor of cancer in the non-mutated gene group\n",
    "    wild_version.append(sampl_wild_version.count('cancer') / sampl_wild_version.count('no cancer'))"
   ]
  },
  {
   "cell_type": "code",
   "execution_count": 9,
   "id": "6395ba80-0733-4ad3-bc46-907e88526c3d",
   "metadata": {},
   "outputs": [],
   "source": [
    "mutated_version_nd = np.array(mutated_version)\n",
    "wild_version_nd = np.array(wild_version)"
   ]
  },
  {
   "cell_type": "code",
   "execution_count": 10,
   "id": "b9526e6c-20db-4541-80ff-406691a2aabd",
   "metadata": {},
   "outputs": [],
   "source": [
    "odds_ratio = mutated_version_nd / wild_version_nd #  Calculating odds ratio"
   ]
  },
  {
   "cell_type": "code",
   "execution_count": 11,
   "id": "6f8c47eb-5153-4122-a226-ac557dd318ca",
   "metadata": {},
   "outputs": [],
   "source": [
    "log_odds_ratio = np.log(odds_ratio) #  Calculating log(odds ratio)"
   ]
  },
  {
   "cell_type": "code",
   "execution_count": 12,
   "id": "d7ade6ce-6260-4535-b8d9-a15acda905f7",
   "metadata": {},
   "outputs": [
    {
     "data": {
      "image/png": "[encoded data removed]",
      "text/plain": [
       "<Figure size 800x600 with 1 Axes>"
      ]
     },
     "metadata": {},
     "output_type": "display_data"
    }
   ],
   "source": [
    "#  Plotting the distribution of log(odds ratio)\n",
    "\n",
    "fig = plt.figure(figsize=(8, 6))\n",
    "g = sns.histplot(data=log_odds_ratio, bins=40, color=\"orange\", edgecolor=\"black\")\n",
    "\n",
    "g.xaxis.set_minor_locator(AutoMinorLocator())\n",
    "\n",
    "g.tick_params(which=\"both\", width=2)\n",
    "g.tick_params(which=\"major\", length=7)\n",
    "g.tick_params(which=\"minor\", length=4)\n",
    "\n",
    "plt.show(g)"
   ]
  },
  {
   "cell_type": "code",
   "execution_count": 13,
   "id": "63eaa46b",
   "metadata": {},
   "outputs": [
    {
     "name": "stdout",
     "output_type": "stream",
     "text": [
      "-0.02\n",
      "0.42\n"
     ]
    }
   ],
   "source": [
    "print(round(np.mean(log_odds_ratio), 2))\n",
    "print(round(np.std(log_odds_ratio), 2))"
   ]
  },
  {
   "cell_type": "markdown",
   "id": "62cba107",
   "metadata": {},
   "source": [
    "Apparently it can be approximated by normal distribution. It is centered around zero with standard deviation of 0.42. Let's see how often I would observe a result as or more extreme as 1.93."
   ]
  },
  {
   "cell_type": "code",
   "execution_count": 14,
   "id": "b853e4a8-078c-46dd-80e6-5af02d3322b5",
   "metadata": {},
   "outputs": [
    {
     "data": {
      "text/plain": [
       "0.0002"
      ]
     },
     "execution_count": 14,
     "metadata": {},
     "output_type": "execute_result"
    }
   ],
   "source": [
    "len([val for val in log_odds_ratio if abs(val) > 1.93]) / len(log_odds_ratio)"
   ]
  },
  {
   "cell_type": "markdown",
   "id": "7caf61c2",
   "metadata": {},
   "source": [
    "Since I simulate the whole thing under the assumption of no difference between groups, selected alpha level should correspond to my long-term type I error rate. If alpha = 0.05, I should observe 5% values to fall more than 2 standard deviation (approximately). Let's check if it's the case."
   ]
  },
  {
   "cell_type": "code",
   "execution_count": 15,
   "id": "a6a20116",
   "metadata": {},
   "outputs": [
    {
     "data": {
      "text/plain": [
       "0.0479"
      ]
     },
     "execution_count": 15,
     "metadata": {},
     "output_type": "execute_result"
    }
   ],
   "source": [
    "len([val for val in log_odds_ratio if abs(val) > 2 * np.std(log_odds_ratio)]) / len(log_odds_ratio)"
   ]
  },
  {
   "cell_type": "markdown",
   "id": "09206724",
   "metadata": {},
   "source": [
    "I really tried to simplify things here, to not make a huge mess out of this but another approach would be to fit a theoretical distribution, such as normal distribution, since that's what the Wald Test does and then step to integrating over the area that fall larger than absolute value of 1.93 . It also requires a few extra steps, such as calculating *estimated* standard deviation. For the ones who would like to play with the idea, here's the [video link](https://youtu.be/8nm0G-1uJzA?si=9BhhXKQ9kPMZ2c7c) again.\n",
    "\n",
    "Have a nice weekend."
   ]
  }
 ],
 "metadata": {
  "kernelspec": {
   "display_name": "base",
   "language": "python",
   "name": "python3"
  },
  "language_info": {
   "codemirror_mode": {
    "name": "ipython",
    "version": 3
   },
   "file_extension": ".py",
   "mimetype": "text/x-python",
   "name": "python",
   "nbconvert_exporter": "python",
   "pygments_lexer": "ipython3",
   "version": "3.12.3"
  }
 },
 "nbformat": 4,
 "nbformat_minor": 5
}
